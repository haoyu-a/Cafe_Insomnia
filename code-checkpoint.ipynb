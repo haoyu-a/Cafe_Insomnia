{
 "cells": [
  {
   "cell_type": "code",
   "execution_count": 1,
   "metadata": {},
   "outputs": [],
   "source": [
    "import numpy as np\n",
    "import pandas as pd\n",
    "import matplotlib.pyplot as plt"
   ]
  },
  {
   "cell_type": "code",
   "execution_count": 2,
   "metadata": {},
   "outputs": [
    {
     "data": {
      "text/html": [
       "<div>\n",
       "<style scoped>\n",
       "    .dataframe tbody tr th:only-of-type {\n",
       "        vertical-align: middle;\n",
       "    }\n",
       "\n",
       "    .dataframe tbody tr th {\n",
       "        vertical-align: top;\n",
       "    }\n",
       "\n",
       "    .dataframe thead th {\n",
       "        text-align: right;\n",
       "    }\n",
       "</style>\n",
       "<table border=\"1\" class=\"dataframe\">\n",
       "  <thead>\n",
       "    <tr style=\"text-align: right;\">\n",
       "      <th></th>\n",
       "      <th>id</th>\n",
       "      <th>date</th>\n",
       "      <th>days_after_open</th>\n",
       "      <th>day_of_week</th>\n",
       "      <th>hours_after_open</th>\n",
       "      <th>drink_id</th>\n",
       "      <th>name</th>\n",
       "      <th>unit_price</th>\n",
       "      <th>quantity</th>\n",
       "      <th>raining</th>\n",
       "      <th>study_area_id</th>\n",
       "      <th>study_area_name</th>\n",
       "      <th>dist_to_cafe</th>\n",
       "    </tr>\n",
       "  </thead>\n",
       "  <tbody>\n",
       "    <tr>\n",
       "      <th>0</th>\n",
       "      <td>0</td>\n",
       "      <td>2019-07-22</td>\n",
       "      <td>0</td>\n",
       "      <td>Mon</td>\n",
       "      <td>0</td>\n",
       "      <td>5</td>\n",
       "      <td>Flat White (L)</td>\n",
       "      <td>4.9</td>\n",
       "      <td>1</td>\n",
       "      <td>No</td>\n",
       "      <td>3</td>\n",
       "      <td>Abercrombie (H70)</td>\n",
       "      <td>700</td>\n",
       "    </tr>\n",
       "    <tr>\n",
       "      <th>1</th>\n",
       "      <td>1</td>\n",
       "      <td>2019-07-22</td>\n",
       "      <td>0</td>\n",
       "      <td>Mon</td>\n",
       "      <td>0</td>\n",
       "      <td>5</td>\n",
       "      <td>Flat White (L)</td>\n",
       "      <td>4.9</td>\n",
       "      <td>1</td>\n",
       "      <td>No</td>\n",
       "      <td>1</td>\n",
       "      <td>Law Library (F10)</td>\n",
       "      <td>84</td>\n",
       "    </tr>\n",
       "    <tr>\n",
       "      <th>2</th>\n",
       "      <td>2</td>\n",
       "      <td>2019-07-22</td>\n",
       "      <td>0</td>\n",
       "      <td>Mon</td>\n",
       "      <td>0</td>\n",
       "      <td>2</td>\n",
       "      <td>Macchiato</td>\n",
       "      <td>3.8</td>\n",
       "      <td>1</td>\n",
       "      <td>No</td>\n",
       "      <td>1</td>\n",
       "      <td>Law Library (F10)</td>\n",
       "      <td>84</td>\n",
       "    </tr>\n",
       "    <tr>\n",
       "      <th>3</th>\n",
       "      <td>3</td>\n",
       "      <td>2019-07-22</td>\n",
       "      <td>0</td>\n",
       "      <td>Mon</td>\n",
       "      <td>0</td>\n",
       "      <td>2</td>\n",
       "      <td>Macchiato</td>\n",
       "      <td>3.8</td>\n",
       "      <td>1</td>\n",
       "      <td>No</td>\n",
       "      <td>5</td>\n",
       "      <td>Carslaw (F07)</td>\n",
       "      <td>150</td>\n",
       "    </tr>\n",
       "    <tr>\n",
       "      <th>4</th>\n",
       "      <td>4</td>\n",
       "      <td>2019-07-22</td>\n",
       "      <td>0</td>\n",
       "      <td>Mon</td>\n",
       "      <td>0</td>\n",
       "      <td>5</td>\n",
       "      <td>Flat White (L)</td>\n",
       "      <td>4.9</td>\n",
       "      <td>1</td>\n",
       "      <td>No</td>\n",
       "      <td>5</td>\n",
       "      <td>Carslaw (F07)</td>\n",
       "      <td>150</td>\n",
       "    </tr>\n",
       "  </tbody>\n",
       "</table>\n",
       "</div>"
      ],
      "text/plain": [
       "   id        date  days_after_open day_of_week  hours_after_open  drink_id  \\\n",
       "0   0  2019-07-22                0         Mon                 0         5   \n",
       "1   1  2019-07-22                0         Mon                 0         5   \n",
       "2   2  2019-07-22                0         Mon                 0         2   \n",
       "3   3  2019-07-22                0         Mon                 0         2   \n",
       "4   4  2019-07-22                0         Mon                 0         5   \n",
       "\n",
       "             name  unit_price  quantity raining  study_area_id  \\\n",
       "0  Flat White (L)         4.9         1      No              3   \n",
       "1  Flat White (L)         4.9         1      No              1   \n",
       "2       Macchiato         3.8         1      No              1   \n",
       "3       Macchiato         3.8         1      No              5   \n",
       "4  Flat White (L)         4.9         1      No              5   \n",
       "\n",
       "     study_area_name  dist_to_cafe  \n",
       "0  Abercrombie (H70)           700  \n",
       "1  Law Library (F10)            84  \n",
       "2  Law Library (F10)            84  \n",
       "3      Carslaw (F07)           150  \n",
       "4      Carslaw (F07)           150  "
      ]
     },
     "execution_count": 2,
     "metadata": {},
     "output_type": "execute_result"
    }
   ],
   "source": [
    "df_transactions = pd.read_csv('transactions.csv')\n",
    "df_transactions.head()"
   ]
  },
  {
   "cell_type": "markdown",
   "metadata": {},
   "source": [
    "# Seasonality\n",
    "\n",
    "## Days"
   ]
  },
  {
   "cell_type": "code",
   "execution_count": 3,
   "metadata": {},
   "outputs": [],
   "source": [
    "df_transactions['revenue'] = df_transactions['unit_price'] * df_transactions['quantity']"
   ]
  },
  {
   "cell_type": "code",
   "execution_count": 4,
   "metadata": {},
   "outputs": [
    {
     "data": {
      "text/html": [
       "<div>\n",
       "<style scoped>\n",
       "    .dataframe tbody tr th:only-of-type {\n",
       "        vertical-align: middle;\n",
       "    }\n",
       "\n",
       "    .dataframe tbody tr th {\n",
       "        vertical-align: top;\n",
       "    }\n",
       "\n",
       "    .dataframe thead th {\n",
       "        text-align: right;\n",
       "    }\n",
       "</style>\n",
       "<table border=\"1\" class=\"dataframe\">\n",
       "  <thead>\n",
       "    <tr style=\"text-align: right;\">\n",
       "      <th></th>\n",
       "      <th>revenue</th>\n",
       "    </tr>\n",
       "    <tr>\n",
       "      <th>day_of_week</th>\n",
       "      <th></th>\n",
       "    </tr>\n",
       "  </thead>\n",
       "  <tbody>\n",
       "    <tr>\n",
       "      <th>Fri</th>\n",
       "      <td>154.228030</td>\n",
       "    </tr>\n",
       "    <tr>\n",
       "      <th>Mon</th>\n",
       "      <td>145.654545</td>\n",
       "    </tr>\n",
       "    <tr>\n",
       "      <th>Sat</th>\n",
       "      <td>145.927273</td>\n",
       "    </tr>\n",
       "    <tr>\n",
       "      <th>Sun</th>\n",
       "      <td>149.926515</td>\n",
       "    </tr>\n",
       "    <tr>\n",
       "      <th>Thu</th>\n",
       "      <td>166.267424</td>\n",
       "    </tr>\n",
       "    <tr>\n",
       "      <th>Tue</th>\n",
       "      <td>157.486364</td>\n",
       "    </tr>\n",
       "    <tr>\n",
       "      <th>Wed</th>\n",
       "      <td>177.293939</td>\n",
       "    </tr>\n",
       "  </tbody>\n",
       "</table>\n",
       "</div>"
      ],
      "text/plain": [
       "                revenue\n",
       "day_of_week            \n",
       "Fri          154.228030\n",
       "Mon          145.654545\n",
       "Sat          145.927273\n",
       "Sun          149.926515\n",
       "Thu          166.267424\n",
       "Tue          157.486364\n",
       "Wed          177.293939"
      ]
     },
     "execution_count": 4,
     "metadata": {},
     "output_type": "execute_result"
    }
   ],
   "source": [
    "hours_open = 6\n",
    "\n",
    "total_rev_each_day = df_transactions.groupby([\"day_of_week\", 'date']).sum()['revenue']\n",
    "mean_daily_rev = total_rev_each_day.reset_index(level=0).groupby('day_of_week').mean()\n",
    "mean_daily_rev_ph = mean_daily_rev/hours_open\n",
    "\n",
    "mean_daily_rev_ph"
   ]
  },
  {
   "cell_type": "code",
   "execution_count": 5,
   "metadata": {},
   "outputs": [
    {
     "data": {
      "text/plain": [
       "<BarContainer object of 7 artists>"
      ]
     },
     "execution_count": 5,
     "metadata": {},
     "output_type": "execute_result"
    },
    {
     "data": {
      "image/png": "[encoded data removed]",
      "text/plain": [
       "<Figure size 432x288 with 1 Axes>"
      ]
     },
     "metadata": {
      "needs_background": "light"
     },
     "output_type": "display_data"
    }
   ],
   "source": [
    "days = [\"Mon\", \"Tue\", \"Wed\", \"Thu\", \"Fri\", \"Sat\", \"Sun\"]\n",
    "\n",
    "plt.bar(np.arange(0, 7), mean_daily_rev_ph.loc[days]['revenue'])"
   ]
  },
  {
   "cell_type": "markdown",
   "metadata": {},
   "source": [
    "## Hours"
   ]
  },
  {
   "cell_type": "code",
   "execution_count": 6,
   "metadata": {},
   "outputs": [
    {
     "data": {
      "text/html": [
       "<div>\n",
       "<style scoped>\n",
       "    .dataframe tbody tr th:only-of-type {\n",
       "        vertical-align: middle;\n",
       "    }\n",
       "\n",
       "    .dataframe tbody tr th {\n",
       "        vertical-align: top;\n",
       "    }\n",
       "\n",
       "    .dataframe thead th {\n",
       "        text-align: right;\n",
       "    }\n",
       "</style>\n",
       "<table border=\"1\" class=\"dataframe\">\n",
       "  <thead>\n",
       "    <tr style=\"text-align: right;\">\n",
       "      <th></th>\n",
       "      <th>revenue</th>\n",
       "    </tr>\n",
       "    <tr>\n",
       "      <th>hours_after_open</th>\n",
       "      <th></th>\n",
       "    </tr>\n",
       "  </thead>\n",
       "  <tbody>\n",
       "    <tr>\n",
       "      <th>0</th>\n",
       "      <td>162.827922</td>\n",
       "    </tr>\n",
       "    <tr>\n",
       "      <th>1</th>\n",
       "      <td>172.752597</td>\n",
       "    </tr>\n",
       "    <tr>\n",
       "      <th>2</th>\n",
       "      <td>166.997403</td>\n",
       "    </tr>\n",
       "    <tr>\n",
       "      <th>3</th>\n",
       "      <td>155.794156</td>\n",
       "    </tr>\n",
       "    <tr>\n",
       "      <th>4</th>\n",
       "      <td>144.457143</td>\n",
       "    </tr>\n",
       "    <tr>\n",
       "      <th>5</th>\n",
       "      <td>138.168627</td>\n",
       "    </tr>\n",
       "  </tbody>\n",
       "</table>\n",
       "</div>"
      ],
      "text/plain": [
       "                     revenue\n",
       "hours_after_open            \n",
       "0                 162.827922\n",
       "1                 172.752597\n",
       "2                 166.997403\n",
       "3                 155.794156\n",
       "4                 144.457143\n",
       "5                 138.168627"
      ]
     },
     "execution_count": 6,
     "metadata": {},
     "output_type": "execute_result"
    }
   ],
   "source": [
    "total_rev_each_hour = df_transactions.groupby([\"hours_after_open\", 'date']).sum()['revenue']\n",
    "mean_hourly_rev = total_rev_each_hour.reset_index(level=0).groupby('hours_after_open').mean()\n",
    "\n",
    "mean_hourly_rev"
   ]
  },
  {
   "cell_type": "code",
   "execution_count": 7,
   "metadata": {},
   "outputs": [
    {
     "data": {
      "text/plain": [
       "[<matplotlib.lines.Line2D at 0x134f923d0>]"
      ]
     },
     "execution_count": 7,
     "metadata": {},
     "output_type": "execute_result"
    },
    {
     "data": {
      "image/png": "[encoded data removed]",
      "text/plain": [
       "<Figure size 432x288 with 1 Axes>"
      ]
     },
     "metadata": {
      "needs_background": "light"
     },
     "output_type": "display_data"
    }
   ],
   "source": [
    "plt.plot(mean_hourly_rev)"
   ]
  },
  {
   "cell_type": "markdown",
   "metadata": {},
   "source": [
    "# Days Since Opened"
   ]
  },
  {
   "cell_type": "code",
   "execution_count": 8,
   "metadata": {},
   "outputs": [
    {
     "data": {
      "text/plain": [
       "days_after_open\n",
       "0       215.2\n",
       "1       375.8\n",
       "2       318.6\n",
       "3       327.9\n",
       "4       248.8\n",
       "        ...  \n",
       "149    2149.6\n",
       "150    2142.6\n",
       "151    1747.2\n",
       "152    1754.7\n",
       "153    1880.8\n",
       "Name: revenue, Length: 154, dtype: float64"
      ]
     },
     "execution_count": 8,
     "metadata": {},
     "output_type": "execute_result"
    }
   ],
   "source": [
    "daily_revenue = df_transactions.groupby(\"days_after_open\").sum()['revenue']\n",
    "\n",
    "daily_revenue"
   ]
  },
  {
   "cell_type": "code",
   "execution_count": 9,
   "metadata": {},
   "outputs": [
    {
     "data": {
      "text/plain": [
       "[<matplotlib.lines.Line2D at 0x1350b2450>]"
      ]
     },
     "execution_count": 9,
     "metadata": {},
     "output_type": "execute_result"
    },
    {
     "data": {
      "image/png": "[encoded data removed]",
      "text/plain": [
       "<Figure size 432x288 with 1 Axes>"
      ]
     },
     "metadata": {
      "needs_background": "light"
     },
     "output_type": "display_data"
    }
   ],
   "source": [
    "plt.plot(daily_revenue)"
   ]
  },
  {
   "cell_type": "markdown",
   "metadata": {},
   "source": [
    "# Customer Location"
   ]
  },
  {
   "cell_type": "code",
   "execution_count": 10,
   "metadata": {},
   "outputs": [
    {
     "data": {
      "text/html": [
       "<div>\n",
       "<style scoped>\n",
       "    .dataframe tbody tr th:only-of-type {\n",
       "        vertical-align: middle;\n",
       "    }\n",
       "\n",
       "    .dataframe tbody tr th {\n",
       "        vertical-align: top;\n",
       "    }\n",
       "\n",
       "    .dataframe thead th {\n",
       "        text-align: right;\n",
       "    }\n",
       "</style>\n",
       "<table border=\"1\" class=\"dataframe\">\n",
       "  <thead>\n",
       "    <tr style=\"text-align: right;\">\n",
       "      <th></th>\n",
       "      <th>id</th>\n",
       "      <th>date</th>\n",
       "      <th>days_after_open</th>\n",
       "      <th>day_of_week</th>\n",
       "      <th>hours_after_open</th>\n",
       "      <th>drink_id</th>\n",
       "      <th>name</th>\n",
       "      <th>unit_price</th>\n",
       "      <th>quantity</th>\n",
       "      <th>raining</th>\n",
       "      <th>study_area_id</th>\n",
       "      <th>study_area_name</th>\n",
       "      <th>dist_to_cafe</th>\n",
       "      <th>revenue</th>\n",
       "    </tr>\n",
       "  </thead>\n",
       "  <tbody>\n",
       "    <tr>\n",
       "      <th>0</th>\n",
       "      <td>0</td>\n",
       "      <td>2019-07-22</td>\n",
       "      <td>0</td>\n",
       "      <td>Mon</td>\n",
       "      <td>0</td>\n",
       "      <td>5</td>\n",
       "      <td>Flat White (L)</td>\n",
       "      <td>4.9</td>\n",
       "      <td>1</td>\n",
       "      <td>No</td>\n",
       "      <td>3</td>\n",
       "      <td>Abercrombie (H70)</td>\n",
       "      <td>700</td>\n",
       "      <td>4.9</td>\n",
       "    </tr>\n",
       "    <tr>\n",
       "      <th>1</th>\n",
       "      <td>1</td>\n",
       "      <td>2019-07-22</td>\n",
       "      <td>0</td>\n",
       "      <td>Mon</td>\n",
       "      <td>0</td>\n",
       "      <td>5</td>\n",
       "      <td>Flat White (L)</td>\n",
       "      <td>4.9</td>\n",
       "      <td>1</td>\n",
       "      <td>No</td>\n",
       "      <td>1</td>\n",
       "      <td>Law Library (F10)</td>\n",
       "      <td>84</td>\n",
       "      <td>4.9</td>\n",
       "    </tr>\n",
       "    <tr>\n",
       "      <th>2</th>\n",
       "      <td>2</td>\n",
       "      <td>2019-07-22</td>\n",
       "      <td>0</td>\n",
       "      <td>Mon</td>\n",
       "      <td>0</td>\n",
       "      <td>2</td>\n",
       "      <td>Macchiato</td>\n",
       "      <td>3.8</td>\n",
       "      <td>1</td>\n",
       "      <td>No</td>\n",
       "      <td>1</td>\n",
       "      <td>Law Library (F10)</td>\n",
       "      <td>84</td>\n",
       "      <td>3.8</td>\n",
       "    </tr>\n",
       "    <tr>\n",
       "      <th>3</th>\n",
       "      <td>3</td>\n",
       "      <td>2019-07-22</td>\n",
       "      <td>0</td>\n",
       "      <td>Mon</td>\n",
       "      <td>0</td>\n",
       "      <td>2</td>\n",
       "      <td>Macchiato</td>\n",
       "      <td>3.8</td>\n",
       "      <td>1</td>\n",
       "      <td>No</td>\n",
       "      <td>5</td>\n",
       "      <td>Carslaw (F07)</td>\n",
       "      <td>150</td>\n",
       "      <td>3.8</td>\n",
       "    </tr>\n",
       "    <tr>\n",
       "      <th>4</th>\n",
       "      <td>4</td>\n",
       "      <td>2019-07-22</td>\n",
       "      <td>0</td>\n",
       "      <td>Mon</td>\n",
       "      <td>0</td>\n",
       "      <td>5</td>\n",
       "      <td>Flat White (L)</td>\n",
       "      <td>4.9</td>\n",
       "      <td>1</td>\n",
       "      <td>No</td>\n",
       "      <td>5</td>\n",
       "      <td>Carslaw (F07)</td>\n",
       "      <td>150</td>\n",
       "      <td>4.9</td>\n",
       "    </tr>\n",
       "    <tr>\n",
       "      <th>...</th>\n",
       "      <td>...</td>\n",
       "      <td>...</td>\n",
       "      <td>...</td>\n",
       "      <td>...</td>\n",
       "      <td>...</td>\n",
       "      <td>...</td>\n",
       "      <td>...</td>\n",
       "      <td>...</td>\n",
       "      <td>...</td>\n",
       "      <td>...</td>\n",
       "      <td>...</td>\n",
       "      <td>...</td>\n",
       "      <td>...</td>\n",
       "      <td>...</td>\n",
       "    </tr>\n",
       "    <tr>\n",
       "      <th>27166</th>\n",
       "      <td>27709</td>\n",
       "      <td>2019-12-22</td>\n",
       "      <td>153</td>\n",
       "      <td>Sun</td>\n",
       "      <td>5</td>\n",
       "      <td>14</td>\n",
       "      <td>Mocha (S)</td>\n",
       "      <td>4.5</td>\n",
       "      <td>2</td>\n",
       "      <td>No</td>\n",
       "      <td>3</td>\n",
       "      <td>Abercrombie (H70)</td>\n",
       "      <td>700</td>\n",
       "      <td>9.0</td>\n",
       "    </tr>\n",
       "    <tr>\n",
       "      <th>27167</th>\n",
       "      <td>27710</td>\n",
       "      <td>2019-12-22</td>\n",
       "      <td>153</td>\n",
       "      <td>Sun</td>\n",
       "      <td>5</td>\n",
       "      <td>6</td>\n",
       "      <td>Flat White (S)</td>\n",
       "      <td>4.0</td>\n",
       "      <td>1</td>\n",
       "      <td>Yes</td>\n",
       "      <td>0</td>\n",
       "      <td>Fisher Library (F03)</td>\n",
       "      <td>70</td>\n",
       "      <td>4.0</td>\n",
       "    </tr>\n",
       "    <tr>\n",
       "      <th>27168</th>\n",
       "      <td>27711</td>\n",
       "      <td>2019-12-22</td>\n",
       "      <td>153</td>\n",
       "      <td>Sun</td>\n",
       "      <td>5</td>\n",
       "      <td>12</td>\n",
       "      <td>Chai Latte (S)</td>\n",
       "      <td>3.6</td>\n",
       "      <td>1</td>\n",
       "      <td>No</td>\n",
       "      <td>1</td>\n",
       "      <td>Law Library (F10)</td>\n",
       "      <td>84</td>\n",
       "      <td>3.6</td>\n",
       "    </tr>\n",
       "    <tr>\n",
       "      <th>27169</th>\n",
       "      <td>27712</td>\n",
       "      <td>2019-12-22</td>\n",
       "      <td>153</td>\n",
       "      <td>Sun</td>\n",
       "      <td>5</td>\n",
       "      <td>9</td>\n",
       "      <td>Cappuccino (L)</td>\n",
       "      <td>4.9</td>\n",
       "      <td>1</td>\n",
       "      <td>Yes</td>\n",
       "      <td>1</td>\n",
       "      <td>Law Library (F10)</td>\n",
       "      <td>84</td>\n",
       "      <td>4.9</td>\n",
       "    </tr>\n",
       "    <tr>\n",
       "      <th>27170</th>\n",
       "      <td>27713</td>\n",
       "      <td>2019-12-22</td>\n",
       "      <td>153</td>\n",
       "      <td>Sun</td>\n",
       "      <td>5</td>\n",
       "      <td>9</td>\n",
       "      <td>Cappuccino (L)</td>\n",
       "      <td>4.9</td>\n",
       "      <td>1</td>\n",
       "      <td>Yes</td>\n",
       "      <td>0</td>\n",
       "      <td>Fisher Library (F03)</td>\n",
       "      <td>70</td>\n",
       "      <td>4.9</td>\n",
       "    </tr>\n",
       "  </tbody>\n",
       "</table>\n",
       "<p>27171 rows × 14 columns</p>\n",
       "</div>"
      ],
      "text/plain": [
       "          id        date  days_after_open day_of_week  hours_after_open  \\\n",
       "0          0  2019-07-22                0         Mon                 0   \n",
       "1          1  2019-07-22                0         Mon                 0   \n",
       "2          2  2019-07-22                0         Mon                 0   \n",
       "3          3  2019-07-22                0         Mon                 0   \n",
       "4          4  2019-07-22                0         Mon                 0   \n",
       "...      ...         ...              ...         ...               ...   \n",
       "27166  27709  2019-12-22              153         Sun                 5   \n",
       "27167  27710  2019-12-22              153         Sun                 5   \n",
       "27168  27711  2019-12-22              153         Sun                 5   \n",
       "27169  27712  2019-12-22              153         Sun                 5   \n",
       "27170  27713  2019-12-22              153         Sun                 5   \n",
       "\n",
       "       drink_id            name  unit_price  quantity raining  study_area_id  \\\n",
       "0             5  Flat White (L)         4.9         1      No              3   \n",
       "1             5  Flat White (L)         4.9         1      No              1   \n",
       "2             2       Macchiato         3.8         1      No              1   \n",
       "3             2       Macchiato         3.8         1      No              5   \n",
       "4             5  Flat White (L)         4.9         1      No              5   \n",
       "...         ...             ...         ...       ...     ...            ...   \n",
       "27166        14       Mocha (S)         4.5         2      No              3   \n",
       "27167         6  Flat White (S)         4.0         1     Yes              0   \n",
       "27168        12  Chai Latte (S)         3.6         1      No              1   \n",
       "27169         9  Cappuccino (L)         4.9         1     Yes              1   \n",
       "27170         9  Cappuccino (L)         4.9         1     Yes              0   \n",
       "\n",
       "            study_area_name  dist_to_cafe  revenue  \n",
       "0         Abercrombie (H70)           700      4.9  \n",
       "1         Law Library (F10)            84      4.9  \n",
       "2         Law Library (F10)            84      3.8  \n",
       "3             Carslaw (F07)           150      3.8  \n",
       "4             Carslaw (F07)           150      4.9  \n",
       "...                     ...           ...      ...  \n",
       "27166     Abercrombie (H70)           700      9.0  \n",
       "27167  Fisher Library (F03)            70      4.0  \n",
       "27168     Law Library (F10)            84      3.6  \n",
       "27169     Law Library (F10)            84      4.9  \n",
       "27170  Fisher Library (F03)            70      4.9  \n",
       "\n",
       "[27171 rows x 14 columns]"
      ]
     },
     "execution_count": 10,
     "metadata": {},
     "output_type": "execute_result"
    }
   ],
   "source": [
    "df_transactions"
   ]
  },
  {
   "cell_type": "code",
   "execution_count": 11,
   "metadata": {},
   "outputs": [
    {
     "data": {
      "text/html": [
       "<div>\n",
       "<style scoped>\n",
       "    .dataframe tbody tr th:only-of-type {\n",
       "        vertical-align: middle;\n",
       "    }\n",
       "\n",
       "    .dataframe tbody tr th {\n",
       "        vertical-align: top;\n",
       "    }\n",
       "\n",
       "    .dataframe thead th {\n",
       "        text-align: right;\n",
       "    }\n",
       "</style>\n",
       "<table border=\"1\" class=\"dataframe\">\n",
       "  <thead>\n",
       "    <tr style=\"text-align: right;\">\n",
       "      <th></th>\n",
       "      <th>revenue</th>\n",
       "    </tr>\n",
       "    <tr>\n",
       "      <th>study_area_name</th>\n",
       "      <th></th>\n",
       "    </tr>\n",
       "  </thead>\n",
       "  <tbody>\n",
       "    <tr>\n",
       "      <th>Abercrombie (H70)</th>\n",
       "      <td>72.194079</td>\n",
       "    </tr>\n",
       "    <tr>\n",
       "      <th>Brennan MacCallum (A18)</th>\n",
       "      <td>68.655195</td>\n",
       "    </tr>\n",
       "    <tr>\n",
       "      <th>Carslaw (F07)</th>\n",
       "      <td>164.060390</td>\n",
       "    </tr>\n",
       "    <tr>\n",
       "      <th>Fisher Library (F03)</th>\n",
       "      <td>261.519481</td>\n",
       "    </tr>\n",
       "    <tr>\n",
       "      <th>Law Library (F10)</th>\n",
       "      <td>237.569481</td>\n",
       "    </tr>\n",
       "    <tr>\n",
       "      <th>Peter Nicol Russell (PNR)</th>\n",
       "      <td>71.294118</td>\n",
       "    </tr>\n",
       "    <tr>\n",
       "      <th>The Quarter (A16)</th>\n",
       "      <td>66.208442</td>\n",
       "    </tr>\n",
       "  </tbody>\n",
       "</table>\n",
       "</div>"
      ],
      "text/plain": [
       "                              revenue\n",
       "study_area_name                      \n",
       "Abercrombie (H70)           72.194079\n",
       "Brennan MacCallum (A18)     68.655195\n",
       "Carslaw (F07)              164.060390\n",
       "Fisher Library (F03)       261.519481\n",
       "Law Library (F10)          237.569481\n",
       "Peter Nicol Russell (PNR)   71.294118\n",
       "The Quarter (A16)           66.208442"
      ]
     },
     "execution_count": 11,
     "metadata": {},
     "output_type": "execute_result"
    }
   ],
   "source": [
    "daily_location_rev = df_transactions.groupby([\"study_area_name\", 'date']).sum()['revenue']\n",
    "mean_daily_location_rev = daily_location_rev.reset_index(level=0).groupby('study_area_name').mean()\n",
    "\n",
    "mean_daily_location_rev"
   ]
  },
  {
   "cell_type": "code",
   "execution_count": 12,
   "metadata": {},
   "outputs": [
    {
     "data": {
      "text/plain": [
       "<BarContainer object of 7 artists>"
      ]
     },
     "execution_count": 12,
     "metadata": {},
     "output_type": "execute_result"
    },
    {
     "data": {
      "image/png": "[encoded data removed]",
      "text/plain": [
       "<Figure size 432x288 with 1 Axes>"
      ]
     },
     "metadata": {
      "needs_background": "light"
     },
     "output_type": "display_data"
    }
   ],
   "source": [
    "plt.barh(mean_daily_location_rev.index, mean_daily_location_rev['revenue'])"
   ]
  },
  {
   "cell_type": "code",
   "execution_count": null,
   "metadata": {},
   "outputs": [],
   "source": []
  }
 ],
 "metadata": {
  "kernelspec": {
   "display_name": "Python 3",
   "language": "python",
   "name": "python3"
  },
  "language_info": {
   "codemirror_mode": {
    "name": "ipython",
    "version": 3
   },
   "file_extension": ".py",
   "mimetype": "text/x-python",
   "name": "python",
   "nbconvert_exporter": "python",
   "pygments_lexer": "ipython3",
   "version": "3.7.4"
  }
 },
 "nbformat": 4,
 "nbformat_minor": 2
}
